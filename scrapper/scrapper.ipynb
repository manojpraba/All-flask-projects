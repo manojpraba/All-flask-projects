{
 "cells": [
  {
   "cell_type": "code",
   "execution_count": 11,
   "metadata": {},
   "outputs": [],
   "source": [
    "import requests\n",
    "import logging\n",
    "import os\n",
    "from bs4 import BeautifulSoup as bss\n",
    "from urllib.request import urlopen"
   ]
  },
  {
   "cell_type": "code",
   "execution_count": 4,
   "metadata": {},
   "outputs": [],
   "source": [
    "save_dir=\"C:\\Flask\\scrapper\\images\"\n",
    "if not os.path.exists(save_dir):\n",
    "    os.makedirs(save_dir)"
   ]
  },
  {
   "cell_type": "code",
   "execution_count": 26,
   "metadata": {},
   "outputs": [],
   "source": [
    "query=\"elon musk\"\n",
    "url=\"https://www.google.com/search?rlz=1C1CHBF_enIN1013IN1013&sxsrf=AB5stBh-NXJT8AcO98511wJwUtxVj8G_Zg:1690691040659&q=elon+musk&tbm=isch&source=lnms&sa=X&ved=2ahUKEwiH25z3yrWAAxUtyzgGHUoUBr0Q0pQJegQIDRAB&biw=1280&bih=563&dpr=1.5\"\n",
    "url1=\"https://www.google.com/search?rlz=1C1CHBF_enIN1013IN1013&hl=en&sxsrf=AB5stBiTrnO25PC0v8U3kcImnNKqu_bW5w:1690692331713&q=elon+musk&tbm=isch&source=lnms&sa=X&ved=2ahUKEwi9sOzez7WAAxUbwjgGHfj1BgkQ0pQJegQIDBAB&biw=1280&bih=563&dpr=1.5\"\n",
    "response=requests.get(url1)"
   ]
  },
  {
   "cell_type": "code",
   "execution_count": 10,
   "metadata": {},
   "outputs": [
    {
     "data": {
      "text/plain": [
       "<Response [200]>"
      ]
     },
     "execution_count": 10,
     "metadata": {},
     "output_type": "execute_result"
    }
   ],
   "source": [
    "response"
   ]
  },
  {
   "cell_type": "code",
   "execution_count": 27,
   "metadata": {},
   "outputs": [],
   "source": [
    "soup=bss(response.content,\"html.parser\")"
   ]
  },
  {
   "cell_type": "code",
   "execution_count": 28,
   "metadata": {},
   "outputs": [],
   "source": [
    "imgages = soup.find_all(\"img\")"
   ]
  },
  {
   "cell_type": "code",
   "execution_count": 29,
   "metadata": {},
   "outputs": [],
   "source": [
    "del imgages[0]"
   ]
  },
  {
   "cell_type": "code",
   "execution_count": 36,
   "metadata": {},
   "outputs": [],
   "source": [
    "len(imgages)\n",
    "for i in imgages:\n",
    "   \n",
    "    image_url=requests.get(i['src']).content\n",
    "    with open(os.path.join(save_dir,f\"{query}_{imgages.index(i)}.jpg\"),'wb') as f:\n",
    "        f.write(image_url)\n"
   ]
  },
  {
   "cell_type": "code",
   "execution_count": 39,
   "metadata": {},
   "outputs": [
    {
     "ename": "SyntaxError",
     "evalue": "invalid syntax (1807436227.py, line 1)",
     "output_type": "error",
     "traceback": [
      "\u001b[1;36m  Cell \u001b[1;32mIn[39], line 1\u001b[1;36m\u001b[0m\n\u001b[1;33m    print(with open(os.path.join(save_dir,f\"{query}_{imgages.index(i)}.jpg\"),'wb'))\u001b[0m\n\u001b[1;37m          ^\u001b[0m\n\u001b[1;31mSyntaxError\u001b[0m\u001b[1;31m:\u001b[0m invalid syntax\n"
     ]
    }
   ],
   "source": [
    "print(with open(os.path.join(save_dir,f\"{query}_{imgages.index(i)}.jpg\"),'wb'))"
   ]
  }
 ],
 "metadata": {
  "kernelspec": {
   "display_name": "Python 3",
   "language": "python",
   "name": "python3"
  },
  "language_info": {
   "codemirror_mode": {
    "name": "ipython",
    "version": 3
   },
   "file_extension": ".py",
   "mimetype": "text/x-python",
   "name": "python",
   "nbconvert_exporter": "python",
   "pygments_lexer": "ipython3",
   "version": "3.8.0"
  },
  "orig_nbformat": 4
 },
 "nbformat": 4,
 "nbformat_minor": 2
}
